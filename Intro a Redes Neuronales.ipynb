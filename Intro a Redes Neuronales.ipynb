{
 "cells": [
  {
   "cell_type": "markdown",
   "metadata": {},
   "source": [
    "![Drag Racing](imgs/PyBuc.jpeg)"
   ]
  },
  {
   "cell_type": "markdown",
   "metadata": {},
   "source": [
    "# <span style=\"color:blue\">Aclaracion importante</span>\n",
    "### <span style=\"color:red\">Este Notebook esta desarrollado para dar una introduccion intuitiva a las redes neuronales</span>\n",
    "Unicamente contiene codigo y este se explicara en el transcurso de la charla"
   ]
  },
  {
   "cell_type": "markdown",
   "metadata": {},
   "source": [
    "## <span style=\"color:blue\">Importación de Librerias</span>"
   ]
  },
  {
   "cell_type": "code",
   "execution_count": 2,
   "metadata": {},
   "outputs": [],
   "source": [
    "import numpy as np\n",
    "import pandas as pd\n",
    "import scipy"
   ]
  },
  {
   "cell_type": "markdown",
   "metadata": {},
   "source": [
    "## <span style=\"color:blue\">Conceptos Base</span>\n",
    "### <span style=\"color:red\">Vectores</span>\n",
    "<br>\n",
    "Los vectores o listas se definen en python como:"
   ]
  },
  {
   "cell_type": "raw",
   "metadata": {},
   "source": [
    "vector = [ elemento0, elemento1, ..., elementoN ]"
   ]
  },
  {
   "cell_type": "markdown",
   "metadata": {},
   "source": [
    "Donde elemento puede ser cualquier tipo de dato. <br>\n",
    "__Y en el caso de Numpy seria...__"
   ]
  },
  {
   "cell_type": "raw",
   "metadata": {},
   "source": [
    "vector = np.array(vector)\n",
    "vector = np.array( [ elemento0, elemento1, ..., elementoN ] )"
   ]
  },
  {
   "cell_type": "markdown",
   "metadata": {},
   "source": [
    "### <span style=\"color:red\">Matrices</span>\n",
    "Las matrices se pueden entender como una tabla de datos que unicamente posee los valores ¡No se guarda que significa cada etiqueta!<br>\n",
    "En python se definen como:"
   ]
  },
  {
   "cell_type": "raw",
   "metadata": {},
   "source": [
    "matriz = [  [ elemento_fila0_columna0, elemento_fila0_columna1, ..., elemento_fila0_columnaN ],\n",
    "            [ elemento_fila1_columna0, elemento_fila1_columna1, ..., elemento_fila1_columnaN ],\n",
    "            ...\n",
    "            [ elemento_filaN_columna0, elemento_filaN_columna1, ..., elemento_filaN_columnaN ] ]"
   ]
  },
  {
   "cell_type": "markdown",
   "metadata": {},
   "source": [
    "__Y en el caso de Numpy seria...__"
   ]
  },
  {
   "cell_type": "raw",
   "metadata": {},
   "source": [
    "matriz = np.array(matriz)\n",
    "matriz = np.array([  [ elemento_fila0_columna0, elemento_fila0_columna1, ..., elemento_fila0_columnaN ],\n",
    "                     [ elemento_fila1_columna0, elemento_fila1_columna1, ..., elemento_fila1_columnaN ],\n",
    "                     ...\n",
    "                     [ elemento_filaN_columna0, elemento_filaN_columna1, ..., elemento_filaN_columnaN ] ])"
   ]
  },
  {
   "cell_type": "markdown",
   "metadata": {},
   "source": [
    "### <span style=\"color:red\">Manejo de Indices</span>\n",
    "Las matrices se peuden entender como una tabla de datos que unicamente posee los valores ¡No se guarda que significa cada etiqueta!<br>\n",
    "En python se definen como:"
   ]
  }
 ],
 "metadata": {
  "kernelspec": {
   "display_name": "Python 3",
   "language": "python",
   "name": "python3"
  },
  "language_info": {
   "codemirror_mode": {
    "name": "ipython",
    "version": 3
   },
   "file_extension": ".py",
   "mimetype": "text/x-python",
   "name": "python",
   "nbconvert_exporter": "python",
   "pygments_lexer": "ipython3",
   "version": "3.7.2"
  }
 },
 "nbformat": 4,
 "nbformat_minor": 2
}
