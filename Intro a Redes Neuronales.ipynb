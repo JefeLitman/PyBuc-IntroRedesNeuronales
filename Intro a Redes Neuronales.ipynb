{
 "cells": [
  {
   "cell_type": "markdown",
   "metadata": {},
   "source": [
    "![Drag Racing](imgs/PyBuc.jpeg)"
   ]
  },
  {
   "cell_type": "markdown",
   "metadata": {},
   "source": [
    "# Aclaracion importante\n",
    "### Este Notebook esta desarrollado para dar una introduccion intuitiva a las redes neuronales\n",
    "Unicamente contiene codigo y este se explicara en el transcurso de la charla"
   ]
  },
  {
   "cell_type": "markdown",
   "metadata": {},
   "source": [
    "## Importación de Librerias"
   ]
  },
  {
   "cell_type": "code",
   "execution_count": 1,
   "metadata": {},
   "outputs": [],
   "source": [
    "import numpy as np\n",
    "import pandas as pd\n",
    "import scipy"
   ]
  },
  {
   "cell_type": "markdown",
   "metadata": {},
   "source": [
    "## Conceptos Base\n",
    "### Vectores\n",
    "\n",
    "__Nota importante, las celdas de esta seccion de conceptos base no se ejecutan, unicamente son de caracter informativo__<br>\n",
    "Los vectores o listas se definen en python como:"
   ]
  },
  {
   "cell_type": "code",
   "execution_count": null,
   "metadata": {},
   "outputs": [],
   "source": [
    "vector = [ elemento0, elemento1, ..., elementoN ]"
   ]
  },
  {
   "cell_type": "code",
   "execution_count": null,
   "metadata": {},
   "outputs": [],
   "source": [
    "vector = [1,2,3,4,5]\n",
    "vector"
   ]
  },
  {
   "cell_type": "markdown",
   "metadata": {},
   "source": [
    "Donde elemento puede ser cualquier tipo de dato. <br>\n",
    "__Y en el caso de Numpy seria...__"
   ]
  },
  {
   "cell_type": "code",
   "execution_count": null,
   "metadata": {},
   "outputs": [],
   "source": [
    "vector = np.array(vector)\n",
    "vector = np.array( [ elemento0, elemento1, ..., elementoN ] )"
   ]
  },
  {
   "cell_type": "markdown",
   "metadata": {},
   "source": [
    "### Matrices\n",
    "Las matrices se pueden entender como una tabla de datos que unicamente posee los valores ¡No se guarda que significa cada etiqueta!<br>\n",
    "En python se definen como:"
   ]
  },
  {
   "cell_type": "code",
   "execution_count": null,
   "metadata": {},
   "outputs": [],
   "source": [
    "matriz = [  [ elemento_fila0_columna0, elemento_fila0_columna1, ..., elemento_fila0_columnaN ],\n",
    "            [ elemento_fila1_columna0, elemento_fila1_columna1, ..., elemento_fila1_columnaN ],\n",
    "            ...\n",
    "            [ elemento_filaN_columna0, elemento_filaN_columna1, ..., elemento_filaN_columnaN ] ]"
   ]
  },
  {
   "cell_type": "markdown",
   "metadata": {},
   "source": [
    "__Y en el caso de Numpy seria...__"
   ]
  },
  {
   "cell_type": "code",
   "execution_count": null,
   "metadata": {},
   "outputs": [],
   "source": [
    "matriz = np.array(matriz)\n",
    "matriz = np.array([  [ elemento_fila0_columna0, elemento_fila0_columna1, ..., elemento_fila0_columnaN ],\n",
    "                     [ elemento_fila1_columna0, elemento_fila1_columna1, ..., elemento_fila1_columnaN ],\n",
    "                     ...\n",
    "                     [ elemento_filaN_columna0, elemento_filaN_columna1, ..., elemento_filaN_columnaN ] ])"
   ]
  },
  {
   "cell_type": "markdown",
   "metadata": {},
   "source": [
    "### Manejo de Indices\n",
    "El manejo de los indices en los vectores y matrices es super importante por ello damos indicaciones generales:\n",
    "- [ : ] Todos los elementos del vector (Numpy y Python)\n",
    "- [ : ] [ : ] Todos los elementos de la matriz (Python)\n",
    "- [ : , : ] Todos los elementos de la matriz (Numpy)\n",
    "- __indice_inicio : indice_fin__  Para obtener los elementos desde el indice_inicio (Este elemento se muestra) hasta el indice_final (Este elemento no se incluye) y en caso de dejar alguno vacio tomara desde el inicio o hasta el final."
   ]
  },
  {
   "cell_type": "markdown",
   "metadata": {},
   "source": [
    "### Funciones\n",
    "Las funciones se pueden entender como ecuaciones que relacionan valores o elementos de un conjunto con otro conjunto.<br>\n",
    "En python se definen de 2 formas:"
   ]
  },
  {
   "cell_type": "code",
   "execution_count": null,
   "metadata": {},
   "outputs": [],
   "source": [
    "funcion = lambda entradas : Operaciones_para_el_valor_de_salida\n",
    "\n",
    "fx = lambda x: x**2"
   ]
  },
  {
   "cell_type": "code",
   "execution_count": null,
   "metadata": {},
   "outputs": [],
   "source": [
    "def funcion(entradas):\n",
    "    Operaciones_para_el_valor_de_salida\n",
    "    return valor_salida\n",
    "\n",
    "def fx(x):\n",
    "    y = x**2\n",
    "    return y"
   ]
  },
  {
   "cell_type": "markdown",
   "metadata": {},
   "source": [
    "### Derivadas\n",
    "Las derivadas se pueden entender como otra ecuacion que se relacion con la funciones y estas determinan que tanto va cambiar de valores la funcion.<br>\n",
    "Es decir se pueden definir como aparece arriba :D"
   ]
  },
  {
   "cell_type": "markdown",
   "metadata": {},
   "source": [
    "# Parte 1\n",
    "## Elementos de una Neurona\n",
    "### Neurona"
   ]
  },
  {
   "cell_type": "code",
   "execution_count": 2,
   "metadata": {},
   "outputs": [],
   "source": [
    "#Creamos una clase llamada neurona que va modelar cualquier tipo de neurona\n",
    "class neurona(): \n",
    "    def __init__(self):\n",
    "        self.w1 = np.random.random()\n",
    "        self.w2 = np.random.random()\n",
    "        self.bias = np.random.random()\n",
    "\n",
    "    def suma_ponderada(self,x1,x2):\n",
    "        y = self.w1 * x1 + self.w2 * x2 + self.bias\n",
    "        return y\n",
    "    \n",
    "    def modificar_valores(self,w1,w2,b):\n",
    "        self.w1 = w1\n",
    "        self.w2 = w2\n",
    "        self.bias = b\n",
    "        \n",
    "    def funcion_activacion(self,y):\n",
    "        if(y>0):\n",
    "            return 1\n",
    "        else:\n",
    "            return 0\n"
   ]
  },
  {
   "cell_type": "markdown",
   "metadata": {},
   "source": [
    "Vamos a crear una neurona AND"
   ]
  },
  {
   "cell_type": "code",
   "execution_count": 3,
   "metadata": {},
   "outputs": [],
   "source": [
    "neurona_AND = neurona()"
   ]
  },
  {
   "cell_type": "markdown",
   "metadata": {},
   "source": [
    "Ahora vamos a comprobar el resultado que nos arroja nuestra neurona AND creada y que tiene pesos aleatorios"
   ]
  },
  {
   "cell_type": "code",
   "execution_count": 4,
   "metadata": {},
   "outputs": [],
   "source": [
    "X1 = 0\n",
    "X2 = 0"
   ]
  },
  {
   "cell_type": "code",
   "execution_count": 5,
   "metadata": {},
   "outputs": [
    {
     "data": {
      "text/plain": [
       "1"
      ]
     },
     "execution_count": 5,
     "metadata": {},
     "output_type": "execute_result"
    }
   ],
   "source": [
    "y = neurona_AND.suma_ponderada(x1=X1,x2=X2)\n",
    "neurona_AND.funcion_activacion(y)"
   ]
  },
  {
   "cell_type": "markdown",
   "metadata": {},
   "source": [
    "Como podemos notar, esta primera ejecucion no esta dando algo incorrecto porque cuando ambas entradas estan en 0 o solamente una esta en 0 deberia darnos 0 pero nos retorna 1.<br>\n",
    "__¿Como podemos corregir este problema? Vamos a tratar variando los valores de w1, w2 y el bias__"
   ]
  },
  {
   "cell_type": "code",
   "execution_count": 6,
   "metadata": {},
   "outputs": [],
   "source": [
    "neurona_AND.modificar_valores(w1=1,w2=1,b=-1)"
   ]
  },
  {
   "cell_type": "markdown",
   "metadata": {},
   "source": [
    "Con estos valores que modificamos vamos a probar si nuestra red va funcionar (De hecho sabemos que funcionaran pero la pregunta es ¿Como hacemos para que la propia neurona y la red los modifique solos?)"
   ]
  },
  {
   "cell_type": "code",
   "execution_count": 7,
   "metadata": {},
   "outputs": [
    {
     "data": {
      "text/plain": [
       "0"
      ]
     },
     "execution_count": 7,
     "metadata": {},
     "output_type": "execute_result"
    }
   ],
   "source": [
    "y = neurona_AND.suma_ponderada(x1=X1,x2=X2)\n",
    "neurona_AND.funcion_activacion(y)"
   ]
  },
  {
   "cell_type": "code",
   "execution_count": 8,
   "metadata": {},
   "outputs": [],
   "source": [
    "X1 = 0\n",
    "X2 = 1"
   ]
  },
  {
   "cell_type": "code",
   "execution_count": 9,
   "metadata": {},
   "outputs": [
    {
     "data": {
      "text/plain": [
       "0"
      ]
     },
     "execution_count": 9,
     "metadata": {},
     "output_type": "execute_result"
    }
   ],
   "source": [
    "y = neurona_AND.suma_ponderada(x1=X1,x2=X2)\n",
    "neurona_AND.funcion_activacion(y)"
   ]
  },
  {
   "cell_type": "code",
   "execution_count": 10,
   "metadata": {},
   "outputs": [],
   "source": [
    "X1 = 1\n",
    "X2 = 1"
   ]
  },
  {
   "cell_type": "code",
   "execution_count": 11,
   "metadata": {},
   "outputs": [
    {
     "data": {
      "text/plain": [
       "1"
      ]
     },
     "execution_count": 11,
     "metadata": {},
     "output_type": "execute_result"
    }
   ],
   "source": [
    "y = neurona_AND.suma_ponderada(x1=X1,x2=X2)\n",
    "neurona_AND.funcion_activacion(y)"
   ]
  },
  {
   "cell_type": "markdown",
   "metadata": {},
   "source": [
    "Y notamos que los valores de la neurona que modificamos nos da la respuesta pero ¿Sabias que existen otros valores que nos dan resultados correctos?"
   ]
  },
  {
   "cell_type": "code",
   "execution_count": 12,
   "metadata": {},
   "outputs": [],
   "source": [
    "neurona_AND.modificar_valores(w1=4,w2=5,b=-6)"
   ]
  },
  {
   "cell_type": "code",
   "execution_count": 13,
   "metadata": {},
   "outputs": [],
   "source": [
    "X1 = 0\n",
    "X2 = 0"
   ]
  },
  {
   "cell_type": "code",
   "execution_count": 14,
   "metadata": {},
   "outputs": [
    {
     "data": {
      "text/plain": [
       "0"
      ]
     },
     "execution_count": 14,
     "metadata": {},
     "output_type": "execute_result"
    }
   ],
   "source": [
    "y = neurona_AND.suma_ponderada(x1=X1,x2=X2)\n",
    "neurona_AND.funcion_activacion(y)"
   ]
  },
  {
   "cell_type": "code",
   "execution_count": 15,
   "metadata": {},
   "outputs": [],
   "source": [
    "X1 = 1\n",
    "X2 = 0"
   ]
  },
  {
   "cell_type": "code",
   "execution_count": 16,
   "metadata": {},
   "outputs": [
    {
     "data": {
      "text/plain": [
       "0"
      ]
     },
     "execution_count": 16,
     "metadata": {},
     "output_type": "execute_result"
    }
   ],
   "source": [
    "y = neurona_AND.suma_ponderada(x1=X1,x2=X2)\n",
    "neurona_AND.funcion_activacion(y)"
   ]
  },
  {
   "cell_type": "code",
   "execution_count": 17,
   "metadata": {},
   "outputs": [],
   "source": [
    "X1 = 1\n",
    "X2 = 1"
   ]
  },
  {
   "cell_type": "code",
   "execution_count": 18,
   "metadata": {},
   "outputs": [
    {
     "data": {
      "text/plain": [
       "1"
      ]
     },
     "execution_count": 18,
     "metadata": {},
     "output_type": "execute_result"
    }
   ],
   "source": [
    "y = neurona_AND.suma_ponderada(x1=X1,x2=X2)\n",
    "neurona_AND.funcion_activacion(y)"
   ]
  },
  {
   "cell_type": "markdown",
   "metadata": {},
   "source": [
    "Y ahora nos surgen nuevos problemas... ¿Que valores son los correctos? ¿Como conecto las diferentes neuronas entre si? ¿Como aprende mi red? Y eso lo veremos en la siguiente seccion!"
   ]
  },
  {
   "cell_type": "markdown",
   "metadata": {},
   "source": [
    "# Parte 2\n",
    "## Relacionar Neuronas\n",
    "### Red"
   ]
  },
  {
   "cell_type": "markdown",
   "metadata": {},
   "source": [
    "Proximamente ;)"
   ]
  },
  {
   "cell_type": "markdown",
   "metadata": {},
   "source": [
    "# Referencias y Material Guia\n",
    "[DotCSV ¿Que es la neurona?](https://www.youtube.com/watch?v=MRIv2IwFTPg)"
   ]
  }
 ],
 "metadata": {
  "kernelspec": {
   "display_name": "Python 3",
   "language": "python",
   "name": "python3"
  },
  "language_info": {
   "codemirror_mode": {
    "name": "ipython",
    "version": 3
   },
   "file_extension": ".py",
   "mimetype": "text/x-python",
   "name": "python",
   "nbconvert_exporter": "python",
   "pygments_lexer": "ipython3",
   "version": "3.7.2"
  }
 },
 "nbformat": 4,
 "nbformat_minor": 2
}
