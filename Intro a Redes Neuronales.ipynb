{
 "cells": [
  {
   "cell_type": "markdown",
   "metadata": {},
   "source": [
    "![Drag Racing](imgs/PyBuc.jpeg)"
   ]
  },
  {
   "cell_type": "markdown",
   "metadata": {},
   "source": [
    "# <span style=\"color:blue\">Aclaracion importante</span>\n",
    "### <span style=\"color:red\">Este Notebook esta desarrollado para dar una introduccion intuitiva a las redes neuronales</span>\n",
    "Unicamente contiene codigo y este se explicara en el transcurso de la charla"
   ]
  },
  {
   "cell_type": "markdown",
   "metadata": {},
   "source": [
    "## <span style=\"color:blue\">Importación de Librerias</span>"
   ]
  },
  {
   "cell_type": "code",
   "execution_count": 2,
   "metadata": {},
   "outputs": [],
   "source": [
    "import numpy as np\n",
    "import pandas as pd\n",
    "import scipy"
   ]
  },
  {
   "cell_type": "markdown",
   "metadata": {},
   "source": [
    "## <span style=\"color:blue\">Conceptos Base</span>\n",
    "### <span style=\"color:red\">Vectores</span>\n",
    "<br>\n",
    "Los vectores o listas se definen en python como:"
   ]
  },
  {
   "cell_type": "raw",
   "metadata": {},
   "source": [
    "vector = [ elemento0, elemento1, ..., elementoN ]"
   ]
  },
  {
   "cell_type": "code",
   "execution_count": 6,
   "metadata": {},
   "outputs": [
    {
     "data": {
      "text/plain": [
       "[1, 2, 3, 4, 5]"
      ]
     },
     "execution_count": 6,
     "metadata": {},
     "output_type": "execute_result"
    }
   ],
   "source": [
    "vector = [1,2,3,4,5]\n",
    "vector"
   ]
  },
  {
   "cell_type": "markdown",
   "metadata": {},
   "source": [
    "Donde elemento puede ser cualquier tipo de dato. <br>\n",
    "__Y en el caso de Numpy seria...__"
   ]
  },
  {
   "cell_type": "raw",
   "metadata": {},
   "source": [
    "vector = np.array(vector)\n",
    "vector = np.array( [ elemento0, elemento1, ..., elementoN ] )"
   ]
  },
  {
   "cell_type": "markdown",
   "metadata": {},
   "source": [
    "### <span style=\"color:red\">Matrices</span>\n",
    "Las matrices se pueden entender como una tabla de datos que unicamente posee los valores ¡No se guarda que significa cada etiqueta!<br>\n",
    "En python se definen como:"
   ]
  },
  {
   "cell_type": "raw",
   "metadata": {},
   "source": [
    "matriz = [  [ elemento_fila0_columna0, elemento_fila0_columna1, ..., elemento_fila0_columnaN ],\n",
    "            [ elemento_fila1_columna0, elemento_fila1_columna1, ..., elemento_fila1_columnaN ],\n",
    "            ...\n",
    "            [ elemento_filaN_columna0, elemento_filaN_columna1, ..., elemento_filaN_columnaN ] ]"
   ]
  },
  {
   "cell_type": "markdown",
   "metadata": {},
   "source": [
    "__Y en el caso de Numpy seria...__"
   ]
  },
  {
   "cell_type": "raw",
   "metadata": {},
   "source": [
    "matriz = np.array(matriz)\n",
    "matriz = np.array([  [ elemento_fila0_columna0, elemento_fila0_columna1, ..., elemento_fila0_columnaN ],\n",
    "                     [ elemento_fila1_columna0, elemento_fila1_columna1, ..., elemento_fila1_columnaN ],\n",
    "                     ...\n",
    "                     [ elemento_filaN_columna0, elemento_filaN_columna1, ..., elemento_filaN_columnaN ] ])"
   ]
  },
  {
   "cell_type": "markdown",
   "metadata": {},
   "source": [
    "### <span style=\"color:red\">Manejo de Indices</span>\n",
    "El manejo de los indices en los vectores y matrices es super importante por ello damos indicaciones generales:\n",
    "- [ : ] Todos los elementos del vector (Numpy y Python)\n",
    "- [ : ] [ : ] Todos los elementos de la matriz (Python)\n",
    "- [ : , : ] Todos los elementos de la matriz (Numpy)\n",
    "- __indice_inicio : indice_fin__  Para obtener los elementos desde el indice_inicio (Este elemento se muestra) hasta el indice_final (Este elemento no se incluye) y en caso de dejar alguno vacio tomara desde el inicio o hasta el final."
   ]
  },
  {
   "cell_type": "markdown",
   "metadata": {},
   "source": [
    "### <span style=\"color:red\">Funciones</span>\n",
    "Las funciones se pueden entender como ecuaciones que relacionan valores o elementos de un conjunto con otro conjunto.<br>\n",
    "En python se definen de 2 formas:"
   ]
  },
  {
   "cell_type": "raw",
   "metadata": {},
   "source": [
    "funcion = lambda entradas : Operaciones_para_el_valor_de_salida\n",
    "\n",
    "fx = lambda x: x**2"
   ]
  },
  {
   "cell_type": "raw",
   "metadata": {},
   "source": [
    "def funcion(entradas):\n",
    "    Operaciones_para_el_valor_de_salida\n",
    "    return valor_salida\n",
    "\n",
    "def fx(x):\n",
    "    y = x**2\n",
    "    return y"
   ]
  },
  {
   "cell_type": "markdown",
   "metadata": {},
   "source": [
    "### <span style=\"color:red\">Derivadas</span>\n",
    "Las derivadas se pueden entender como otra ecuacion que se relacion con la funciones y estas determinan que tanto va cambiar de valores la funcion.<br>\n",
    "Es decir se pueden definir como aparece arriba :D"
   ]
  },
  {
   "cell_type": "markdown",
   "metadata": {},
   "source": [
    "## <span style=\"color:blue\">Elementos de una Red Neuronal</span>\n",
    "### <span style=\"color:red\">aa</span>\n",
    "<br>"
   ]
  },
  {
   "cell_type": "code",
   "execution_count": 8,
   "metadata": {},
   "outputs": [
    {
     "data": {
      "text/plain": [
       "<function __main__.funcion(x)>"
      ]
     },
     "execution_count": 8,
     "metadata": {},
     "output_type": "execute_result"
    }
   ],
   "source": []
  },
  {
   "cell_type": "code",
   "execution_count": null,
   "metadata": {},
   "outputs": [],
   "source": []
  }
 ],
 "metadata": {
  "kernelspec": {
   "display_name": "Python 3",
   "language": "python",
   "name": "python3"
  },
  "language_info": {
   "codemirror_mode": {
    "name": "ipython",
    "version": 3
   },
   "file_extension": ".py",
   "mimetype": "text/x-python",
   "name": "python",
   "nbconvert_exporter": "python",
   "pygments_lexer": "ipython3",
   "version": "3.7.2"
  }
 },
 "nbformat": 4,
 "nbformat_minor": 2
}
