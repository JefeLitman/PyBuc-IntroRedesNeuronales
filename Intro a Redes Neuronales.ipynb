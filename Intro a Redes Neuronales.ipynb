{
 "cells": [
  {
   "cell_type": "markdown",
   "metadata": {},
   "source": [
    "![Drag Racing](imgs/PyBuc.jpeg)"
   ]
  },
  {
   "cell_type": "markdown",
   "metadata": {},
   "source": [
    "# Aclaracion importante\n",
    "### Este Notebook esta desarrollado para dar una introduccion intuitiva a las redes neuronales\n",
    "Unicamente contiene codigo y este se explicara en el transcurso de la charla"
   ]
  },
  {
   "cell_type": "markdown",
   "metadata": {},
   "source": [
    "## Importación de Librerias"
   ]
  },
  {
   "cell_type": "code",
   "execution_count": 1,
   "metadata": {},
   "outputs": [],
   "source": [
    "import numpy as np\n",
    "import pandas as pd\n",
    "import scipy"
   ]
  },
  {
   "cell_type": "markdown",
   "metadata": {},
   "source": [
    "## Conceptos Base\n",
    "### Vectores\n",
    "\n",
    "__Nota importante, las celdas de esta seccion de conceptos base no se ejecutan, unicamente son de caracter informativo__<br>\n",
    "Los vectores o listas se definen en python como:"
   ]
  },
  {
   "cell_type": "code",
   "execution_count": null,
   "metadata": {},
   "outputs": [],
   "source": [
    "vector = [ elemento0, elemento1, ..., elementoN ]"
   ]
  },
  {
   "cell_type": "code",
   "execution_count": null,
   "metadata": {},
   "outputs": [],
   "source": [
    "vector = [1,2,3,4,5]\n",
    "vector"
   ]
  },
  {
   "cell_type": "markdown",
   "metadata": {},
   "source": [
    "Donde elemento puede ser cualquier tipo de dato. <br>\n",
    "__Y en el caso de Numpy seria...__"
   ]
  },
  {
   "cell_type": "code",
   "execution_count": null,
   "metadata": {},
   "outputs": [],
   "source": [
    "vector = np.array(vector)\n",
    "vector = np.array( [ elemento0, elemento1, ..., elementoN ] )"
   ]
  },
  {
   "cell_type": "markdown",
   "metadata": {},
   "source": [
    "### Matrices\n",
    "Las matrices se pueden entender como una tabla de datos que unicamente posee los valores ¡No se guarda que significa cada etiqueta!<br>\n",
    "En python se definen como:"
   ]
  },
  {
   "cell_type": "code",
   "execution_count": null,
   "metadata": {},
   "outputs": [],
   "source": [
    "matriz = [  [ elemento_fila0_columna0, elemento_fila0_columna1, ..., elemento_fila0_columnaN ],\n",
    "            [ elemento_fila1_columna0, elemento_fila1_columna1, ..., elemento_fila1_columnaN ],\n",
    "            ...\n",
    "            [ elemento_filaN_columna0, elemento_filaN_columna1, ..., elemento_filaN_columnaN ] ]"
   ]
  },
  {
   "cell_type": "markdown",
   "metadata": {},
   "source": [
    "__Y en el caso de Numpy seria...__"
   ]
  },
  {
   "cell_type": "code",
   "execution_count": null,
   "metadata": {},
   "outputs": [],
   "source": [
    "matriz = np.array(matriz)\n",
    "matriz = np.array([  [ elemento_fila0_columna0, elemento_fila0_columna1, ..., elemento_fila0_columnaN ],\n",
    "                     [ elemento_fila1_columna0, elemento_fila1_columna1, ..., elemento_fila1_columnaN ],\n",
    "                     ...\n",
    "                     [ elemento_filaN_columna0, elemento_filaN_columna1, ..., elemento_filaN_columnaN ] ])"
   ]
  },
  {
   "cell_type": "markdown",
   "metadata": {},
   "source": [
    "### Manejo de Indices\n",
    "El manejo de los indices en los vectores y matrices es super importante por ello damos indicaciones generales:\n",
    "- [ : ] Todos los elementos del vector (Numpy y Python)\n",
    "- [ : ] [ : ] Todos los elementos de la matriz (Python)\n",
    "- [ : , : ] Todos los elementos de la matriz (Numpy)\n",
    "- __indice_inicio : indice_fin__  Para obtener los elementos desde el indice_inicio (Este elemento se muestra) hasta el indice_final (Este elemento no se incluye) y en caso de dejar alguno vacio tomara desde el inicio o hasta el final."
   ]
  },
  {
   "cell_type": "markdown",
   "metadata": {},
   "source": [
    "### Funciones\n",
    "Las funciones se pueden entender como ecuaciones que relacionan valores o elementos de un conjunto con otro conjunto.<br>\n",
    "En python se definen de 2 formas:"
   ]
  },
  {
   "cell_type": "code",
   "execution_count": null,
   "metadata": {},
   "outputs": [],
   "source": [
    "funcion = lambda entradas : Operaciones_para_el_valor_de_salida\n",
    "\n",
    "fx = lambda x: x**2"
   ]
  },
  {
   "cell_type": "code",
   "execution_count": null,
   "metadata": {},
   "outputs": [],
   "source": [
    "def funcion(entradas):\n",
    "    Operaciones_para_el_valor_de_salida\n",
    "    return valor_salida\n",
    "\n",
    "def fx(x):\n",
    "    y = x**2\n",
    "    return y"
   ]
  },
  {
   "cell_type": "markdown",
   "metadata": {},
   "source": [
    "### Derivadas\n",
    "Las derivadas se pueden entender como otra ecuacion que se relacion con la funciones y estas determinan que tanto va cambiar de valores la funcion.<br>\n",
    "Es decir se pueden definir como aparece arriba :D"
   ]
  },
  {
   "cell_type": "markdown",
   "metadata": {},
   "source": [
    "# Parte 1\n",
    "## Elementos de una Neurona\n",
    "### Neurona"
   ]
  },
  {
   "cell_type": "code",
   "execution_count": 2,
   "metadata": {},
   "outputs": [],
   "source": [
    "#Creamos una clase llamada neurona que va modelar cualquier tipo de neurona\n",
    "class neurona(): \n",
    "    def __init__(self):\n",
    "        self.w1 = np.random.random()\n",
    "        self.w2 = np.random.random()\n",
    "        self.bias = np.random.random()\n",
    "\n",
    "    def suma_ponderada(self,x1,x2):\n",
    "        y = self.w1 * x1 + self.w2 * x2 + self.bias\n",
    "        return y\n",
    "    \n",
    "    def modificar_valores(self,w1,w2,b):\n",
    "        self.w1 = w1\n",
    "        self.w2 = w2\n",
    "        self.bias = b\n",
    "        \n",
    "    def funcion_activacion(self,y):\n",
    "        if(y>0):\n",
    "            return 1\n",
    "        else:\n",
    "            return 0\n"
   ]
  },
  {
   "cell_type": "markdown",
   "metadata": {},
   "source": [
    "Vamos a crear una neurona AND"
   ]
  },
  {
   "cell_type": "code",
   "execution_count": 3,
   "metadata": {},
   "outputs": [],
   "source": [
    "neurona_AND = neurona()"
   ]
  },
  {
   "cell_type": "markdown",
   "metadata": {},
   "source": [
    "Ahora vamos a comprobar el resultado que nos arroja nuestra neurona AND creada y que tiene pesos aleatorios"
   ]
  },
  {
   "cell_type": "code",
   "execution_count": 4,
   "metadata": {},
   "outputs": [],
   "source": [
    "X1 = 0\n",
    "X2 = 0"
   ]
  },
  {
   "cell_type": "code",
   "execution_count": 5,
   "metadata": {},
   "outputs": [
    {
     "data": {
      "text/plain": [
       "1"
      ]
     },
     "execution_count": 5,
     "metadata": {},
     "output_type": "execute_result"
    }
   ],
   "source": [
    "y = neurona_AND.suma_ponderada(x1=X1,x2=X2)\n",
    "neurona_AND.funcion_activacion(y)"
   ]
  },
  {
   "cell_type": "markdown",
   "metadata": {},
   "source": [
    "Como podemos notar, esta primera ejecucion no esta dando algo incorrecto porque cuando ambas entradas estan en 0 o solamente una esta en 0 deberia darnos 0 pero nos retorna 1.<br>\n",
    "__¿Como podemos corregir este problema? Vamos a tratar variando los valores de w1, w2 y el bias__"
   ]
  },
  {
   "cell_type": "code",
   "execution_count": 6,
   "metadata": {},
   "outputs": [],
   "source": [
    "neurona_AND.modificar_valores(w1=1,w2=1,b=-1)"
   ]
  },
  {
   "cell_type": "markdown",
   "metadata": {},
   "source": [
    "Con estos valores que modificamos vamos a probar si nuestra red va funcionar (De hecho sabemos que funcionaran pero la pregunta es ¿Como hacemos para que la propia neurona y la red los modifique solos?)"
   ]
  },
  {
   "cell_type": "code",
   "execution_count": 7,
   "metadata": {},
   "outputs": [
    {
     "data": {
      "text/plain": [
       "0"
      ]
     },
     "execution_count": 7,
     "metadata": {},
     "output_type": "execute_result"
    }
   ],
   "source": [
    "y = neurona_AND.suma_ponderada(x1=X1,x2=X2)\n",
    "neurona_AND.funcion_activacion(y)"
   ]
  },
  {
   "cell_type": "code",
   "execution_count": 8,
   "metadata": {},
   "outputs": [],
   "source": [
    "X1 = 0\n",
    "X2 = 1"
   ]
  },
  {
   "cell_type": "code",
   "execution_count": 9,
   "metadata": {},
   "outputs": [
    {
     "data": {
      "text/plain": [
       "0"
      ]
     },
     "execution_count": 9,
     "metadata": {},
     "output_type": "execute_result"
    }
   ],
   "source": [
    "y = neurona_AND.suma_ponderada(x1=X1,x2=X2)\n",
    "neurona_AND.funcion_activacion(y)"
   ]
  },
  {
   "cell_type": "code",
   "execution_count": 10,
   "metadata": {},
   "outputs": [],
   "source": [
    "X1 = 1\n",
    "X2 = 1"
   ]
  },
  {
   "cell_type": "code",
   "execution_count": 11,
   "metadata": {},
   "outputs": [
    {
     "data": {
      "text/plain": [
       "1"
      ]
     },
     "execution_count": 11,
     "metadata": {},
     "output_type": "execute_result"
    }
   ],
   "source": [
    "y = neurona_AND.suma_ponderada(x1=X1,x2=X2)\n",
    "neurona_AND.funcion_activacion(y)"
   ]
  },
  {
   "cell_type": "markdown",
   "metadata": {},
   "source": [
    "Y notamos que los valores de la neurona que modificamos nos da la respuesta pero ¿Sabias que existen otros valores que nos dan resultados correctos?"
   ]
  },
  {
   "cell_type": "code",
   "execution_count": 12,
   "metadata": {},
   "outputs": [],
   "source": [
    "neurona_AND.modificar_valores(w1=4,w2=5,b=-6)"
   ]
  },
  {
   "cell_type": "code",
   "execution_count": 13,
   "metadata": {},
   "outputs": [],
   "source": [
    "X1 = 0\n",
    "X2 = 0"
   ]
  },
  {
   "cell_type": "code",
   "execution_count": 14,
   "metadata": {},
   "outputs": [
    {
     "data": {
      "text/plain": [
       "0"
      ]
     },
     "execution_count": 14,
     "metadata": {},
     "output_type": "execute_result"
    }
   ],
   "source": [
    "y = neurona_AND.suma_ponderada(x1=X1,x2=X2)\n",
    "neurona_AND.funcion_activacion(y)"
   ]
  },
  {
   "cell_type": "code",
   "execution_count": 15,
   "metadata": {},
   "outputs": [],
   "source": [
    "X1 = 1\n",
    "X2 = 0"
   ]
  },
  {
   "cell_type": "code",
   "execution_count": 16,
   "metadata": {},
   "outputs": [
    {
     "data": {
      "text/plain": [
       "0"
      ]
     },
     "execution_count": 16,
     "metadata": {},
     "output_type": "execute_result"
    }
   ],
   "source": [
    "y = neurona_AND.suma_ponderada(x1=X1,x2=X2)\n",
    "neurona_AND.funcion_activacion(y)"
   ]
  },
  {
   "cell_type": "code",
   "execution_count": 17,
   "metadata": {},
   "outputs": [],
   "source": [
    "X1 = 1\n",
    "X2 = 1"
   ]
  },
  {
   "cell_type": "code",
   "execution_count": 18,
   "metadata": {},
   "outputs": [
    {
     "data": {
      "text/plain": [
       "1"
      ]
     },
     "execution_count": 18,
     "metadata": {},
     "output_type": "execute_result"
    }
   ],
   "source": [
    "y = neurona_AND.suma_ponderada(x1=X1,x2=X2)\n",
    "neurona_AND.funcion_activacion(y)"
   ]
  },
  {
   "cell_type": "markdown",
   "metadata": {},
   "source": [
    "Y ahora nos surgen nuevos problemas... ¿Que valores son los correctos? ¿Como conecto las diferentes neuronas entre si? ¿Como aprende mi red? Y eso lo veremos en la siguiente seccion!"
   ]
  },
  {
   "cell_type": "markdown",
   "metadata": {},
   "source": [
    "# Parte 2\n",
    "## Relacionar Neuronas\n",
    "### Compuerta XOR"
   ]
  },
  {
   "cell_type": "code",
   "execution_count": 19,
   "metadata": {},
   "outputs": [],
   "source": [
    "neurona_OR = neurona()"
   ]
  },
  {
   "cell_type": "code",
   "execution_count": 20,
   "metadata": {},
   "outputs": [],
   "source": [
    "X1 = 0\n",
    "X2 = 0"
   ]
  },
  {
   "cell_type": "code",
   "execution_count": 21,
   "metadata": {},
   "outputs": [
    {
     "data": {
      "text/plain": [
       "1"
      ]
     },
     "execution_count": 21,
     "metadata": {},
     "output_type": "execute_result"
    }
   ],
   "source": [
    "y = neurona_OR.suma_ponderada(x1=X1,x2=X2)\n",
    "neurona_OR.funcion_activacion(y)"
   ]
  },
  {
   "cell_type": "markdown",
   "metadata": {},
   "source": [
    "Aqui hemos notado que siempre que queremos comprobar los valores que nos arroja una neurona nos toca ejecutar dos lineas de codigo, por ello ¡vamos a recortarlo a una para ahorrar codigo! Asi que modificaremos la clase neurona que creamos y vamos a agregarle la funcion activacion que ejecutara la suma ponderada y la funcion de activacion"
   ]
  },
  {
   "cell_type": "code",
   "execution_count": 22,
   "metadata": {},
   "outputs": [],
   "source": [
    "class neurona(): \n",
    "    def __init__(self):\n",
    "        self.w1 = np.random.random()\n",
    "        self.w2 = np.random.random()\n",
    "        self.bias = np.random.random()\n",
    "\n",
    "    def suma_ponderada(self,x1,x2):\n",
    "        y = self.w1 * x1 + self.w2 * x2 + self.bias\n",
    "        return y\n",
    "    \n",
    "    def modificar_valores(self,w1,w2,b):\n",
    "        self.w1 = w1\n",
    "        self.w2 = w2\n",
    "        self.bias = b\n",
    "        \n",
    "    def funcion_activacion(self,y):\n",
    "        if(y>0):\n",
    "            return 1\n",
    "        else:\n",
    "            return 0\n",
    "    def activar_neurona(self,x1,x2):\n",
    "        y = self.suma_ponderada(x1,x2)\n",
    "        y = self.funcion_activacion(y)\n",
    "        return y"
   ]
  },
  {
   "cell_type": "code",
   "execution_count": 23,
   "metadata": {},
   "outputs": [],
   "source": [
    "#Volvemos a crear nuestras neuronas AND y OR\n",
    "neurona_AND = neurona()\n",
    "neurona_OR = neurona()"
   ]
  },
  {
   "cell_type": "code",
   "execution_count": 24,
   "metadata": {},
   "outputs": [],
   "source": [
    "X1 = 0\n",
    "X2 = 0"
   ]
  },
  {
   "cell_type": "code",
   "execution_count": 25,
   "metadata": {},
   "outputs": [
    {
     "data": {
      "text/plain": [
       "1"
      ]
     },
     "execution_count": 25,
     "metadata": {},
     "output_type": "execute_result"
    }
   ],
   "source": [
    "neurona_AND.activar_neurona(X1,X2)"
   ]
  },
  {
   "cell_type": "code",
   "execution_count": 26,
   "metadata": {},
   "outputs": [
    {
     "data": {
      "text/plain": [
       "1"
      ]
     },
     "execution_count": 26,
     "metadata": {},
     "output_type": "execute_result"
    }
   ],
   "source": [
    "neurona_OR.activar_neurona(X1,X2)"
   ]
  },
  {
   "cell_type": "markdown",
   "metadata": {},
   "source": [
    "Notamos que ambas neuronas estan mal y vamos a proceder a corregirle los valores de pesos y bias para que funcionen bien"
   ]
  },
  {
   "cell_type": "code",
   "execution_count": 27,
   "metadata": {},
   "outputs": [],
   "source": [
    "neurona_AND.modificar_valores(w1=1,w2=1,b=-1)\n",
    "neurona_OR.modificar_valores(w1=1,w2=1,b=0)"
   ]
  },
  {
   "cell_type": "code",
   "execution_count": 28,
   "metadata": {},
   "outputs": [
    {
     "name": "stdout",
     "output_type": "stream",
     "text": [
      "Activacion Neurona AND con entradas 0 y 0:  0\n",
      "Activacion Neurona OR con entradas 0 y 0:  0\n",
      "Activacion Neurona AND con entradas 0 y 1:  0\n",
      "Activacion Neurona OR con entradas 0 y 1:  1\n",
      "Activacion Neurona AND con entradas 1 y 0:  0\n",
      "Activacion Neurona OR con entradas 1 y 0:  1\n",
      "Activacion Neurona AND con entradas 1 y 1:  1\n",
      "Activacion Neurona OR con entradas 1 y 1:  1\n"
     ]
    }
   ],
   "source": [
    "X1=0\n",
    "X2=0\n",
    "print(\"Activacion Neurona AND con entradas 0 y 0: \",neurona_AND.activar_neurona(X1,X2))\n",
    "print(\"Activacion Neurona OR con entradas 0 y 0: \",neurona_OR.activar_neurona(X1,X2))\n",
    "print(\"Activacion Neurona AND con entradas 0 y 1: \",neurona_AND.activar_neurona(0,1))\n",
    "print(\"Activacion Neurona OR con entradas 0 y 1: \",neurona_OR.activar_neurona(0,1))\n",
    "print(\"Activacion Neurona AND con entradas 1 y 0: \",neurona_AND.activar_neurona(1,0))\n",
    "print(\"Activacion Neurona OR con entradas 1 y 0: \",neurona_OR.activar_neurona(1,0))\n",
    "print(\"Activacion Neurona AND con entradas 1 y 1: \",neurona_AND.activar_neurona(1,1))\n",
    "print(\"Activacion Neurona OR con entradas 1 y 1: \",neurona_OR.activar_neurona(1,1))"
   ]
  },
  {
   "cell_type": "markdown",
   "metadata": {},
   "source": [
    "__Ahora vamos a crear la neurona XOR o mejor dicho, la red neuronal de la compuerta XOR__"
   ]
  },
  {
   "cell_type": "code",
   "execution_count": 29,
   "metadata": {},
   "outputs": [],
   "source": [
    "#Red Neuronal de la compuerta XOR\n",
    "class Red_Neuronal_XOR():\n",
    "    def __init__(self):\n",
    "        self.neurona_AND = neurona()\n",
    "        self.neurona_OR = neurona()\n",
    "        self.neurona_union = neurona()\n",
    "    def transmitir_entradas(self,x1,x2):\n",
    "        salida_AND = self.neurona_AND.activar_neurona(x1,x2)\n",
    "        salida_OR = self.neurona_OR.activar_neurona(x1,x2)\n",
    "        salida_red = self.neurona_union.activar_neurona(salida_AND,salida_OR)\n",
    "        return salida_red\n",
    "    def activar_red(self,x1,x2):\n",
    "        salida = self.transmitir_entradas(x1,x2)\n",
    "        return salida"
   ]
  },
  {
   "cell_type": "code",
   "execution_count": 30,
   "metadata": {},
   "outputs": [],
   "source": [
    "compuerta_XOR = Red_Neuronal_XOR()\n",
    "#Vamos a acomodar nuestras neuronas a los valores que conocemos que quedan funcionando\n",
    "compuerta_XOR.neurona_AND.modificar_valores(w1=1,w2=1,b=-1)\n",
    "compuerta_XOR.neurona_OR.modificar_valores(w1=1,w2=1,b=0)\n",
    "compuerta_XOR.neurona_union.modificar_valores(w1=-1,w2=1,b=0)"
   ]
  },
  {
   "cell_type": "code",
   "execution_count": 31,
   "metadata": {},
   "outputs": [
    {
     "name": "stdout",
     "output_type": "stream",
     "text": [
      "Activacion Compuerta XOR con entradas 0 y 0:  0\n",
      "Activacion Compuerta XOR con entradas 0 y 1:  1\n",
      "Activacion Compuerta XOR con entradas 1 y 0:  1\n",
      "Activacion Compuerta XOR con entradas 1 y 1:  0\n"
     ]
    }
   ],
   "source": [
    "print(\"Activacion Compuerta XOR con entradas 0 y 0: \",compuerta_XOR.activar_red(0,0))\n",
    "print(\"Activacion Compuerta XOR con entradas 0 y 1: \",compuerta_XOR.activar_red(0,1))\n",
    "print(\"Activacion Compuerta XOR con entradas 1 y 0: \",compuerta_XOR.activar_red(1,0))\n",
    "print(\"Activacion Compuerta XOR con entradas 1 y 1: \",compuerta_XOR.activar_red(1,1))"
   ]
  },
  {
   "cell_type": "markdown",
   "metadata": {},
   "source": [
    "__Ahora vamos a hacer que nuestra red neuronal aprenda por si sola, para ello necesitamos establecer lo que es el backpropagation, descenso del gradiente y funcion de costo o error__ <br>\n",
    "- Funcion de Costo o Error"
   ]
  },
  {
   "cell_type": "code",
   "execution_count": 32,
   "metadata": {},
   "outputs": [
    {
     "data": {
      "text/plain": [
       "<function __main__.error(Y_correcto, Y_calculado)>"
      ]
     },
     "execution_count": 32,
     "metadata": {},
     "output_type": "execute_result"
    }
   ],
   "source": [
    "def error(Y_correcto,Y_calculado):\n",
    "    return abs(Y_correcto - Y_calculado)\n",
    "error"
   ]
  },
  {
   "cell_type": "code",
   "execution_count": 33,
   "metadata": {},
   "outputs": [
    {
     "data": {
      "text/plain": [
       "<function __main__.<lambda>(Y_correcto, Y_calculado)>"
      ]
     },
     "execution_count": 33,
     "metadata": {},
     "output_type": "execute_result"
    }
   ],
   "source": [
    "derivada_error = lambda Y_correcto,Y_calculado: (Y_correcto-Y_calculado)/abs(Y_correcto-Y_calculado)\n",
    "derivada_error"
   ]
  },
  {
   "cell_type": "markdown",
   "metadata": {},
   "source": [
    "- Funcion de Activacion (Que necesariamente tiene que ser derivable, entonces cambiamos la funcion de activacion que teniamos por tanh(x))"
   ]
  },
  {
   "cell_type": "code",
   "execution_count": 34,
   "metadata": {},
   "outputs": [],
   "source": [
    "def funcion_activacion(valor_x):\n",
    "    return np.tanh(valor_x)\n",
    "def derivada_funcion_activacion(valor_x):\n",
    "    return 1.0/np.cosh(valor_x)**2"
   ]
  },
  {
   "cell_type": "markdown",
   "metadata": {},
   "source": [
    "__Ahora vamos a recrear la Red Neuronal para un XOR pero esta vez haremos una clase de Red Neuronal que pueda construir cualquier tipo de Red Neuronal que queramos a partir de la topologia, ademas, esta representacion que usaremos es mas o menos estandar en la mayoria de frameworks de Redes Neuronales__"
   ]
  },
  {
   "cell_type": "code",
   "execution_count": 35,
   "metadata": {},
   "outputs": [],
   "source": [
    "#Vamos a crear una clase llamada capa_neuronal que sera necesaria a la hora de crear la red_neuronal\n",
    "class capa_neuronal():\n",
    "    def __init__(self, numero_entradas_neuronas, numero_neuronas):\n",
    "        self.b = np.random.random((1, numero_neuronas)) * 2 - 1\n",
    "        self.W = np.random.random((numero_entradas_neuronas, numero_neuronas)) * 2 -1\n",
    "\n",
    "class red_neuronal():\n",
    "    def __init__(self,topologia,funcion_activacion,derivada_funcion_activacion):\n",
    "        self.red_neuronal = self.crear_red(topologia)\n",
    "        self.fun_act = funcion_activacion\n",
    "        self.dfun_act = derivada_funcion_activacion\n",
    "        \n",
    "    def crear_red(self,topologia):\n",
    "        red = []\n",
    "        for capa in range(len(topologia[:-1])):\n",
    "            red.append(capa_neuronal(topologia[capa],topologia[capa+1]))\n",
    "        return red\n",
    "    \n",
    "    def transmitir_entradas(self,entradas):\n",
    "        #Entradas debe ser una matrix, es decir, tener dos dimensiones asi (1,n_entradas)\n",
    "        salida = [(None,entradas)]\n",
    "\n",
    "        for capa in range(len(self.red_neuronal)):\n",
    "            z = salida[-1][1] @ self.red_neuronal[capa].W + self.red_neuronal[capa].b #Hacemos la Suma Ponderada\n",
    "            a = self.fun_act(z) #Activamos la salida Z o realizamos la funcion de activacion\n",
    "            salida.append((z,a))\n",
    "        \n",
    "        return salida\n",
    "    \n",
    "    def retropropagacion(self,salida,derivada_error):\n",
    "        #Derivada del error debe ser un valor numerico\n",
    "        deltas = []\n",
    "\n",
    "        for capa in reversed(range(len(self.red_neuronal))):\n",
    "            a = salida[capa + 1][1] #El uno es porque es donde esta el a de la capa siguiente\n",
    "            \n",
    "            if (capa == len(self.red_neuronal) - 1):\n",
    "                deltas.insert(0, derivada_error * self.dfun_act(a))\n",
    "            else:\n",
    "                deltas.insert(0, deltas[0] @ self.red_neuronal[capa+1].W.T * self.dfun_act(a))\n",
    "\n",
    "        return deltas\n",
    "\n",
    "    def descenso_gradiente(self,salida,deltas,tasa_aprendizaje=0.1):\n",
    "        \n",
    "        for capa in range(len(self.red_neuronal)):\n",
    "            self.red_neuronal[capa].b = self.red_neuronal[capa].b - deltas[capa] * tasa_aprendizaje\n",
    "            self.red_neuronal[capa].W = self.red_neuronal[capa].W - salida[capa][1].T @ deltas[capa] * tasa_aprendizaje\n",
    "    \n",
    "    def entrenar(self, entrada, salida_correcta,derivada_funcion_costo,tasa_aprendizaje=0.1):\n",
    "        salidas = self.transmitir_entradas(entrada) #Genero las salidas de la Red\n",
    "        \n",
    "        derivadas_error = derivada_funcion_costo(salida_correcta,salidas[-1][1]) #Calculo las derivadas de la funcion de costo \n",
    "        #Con respecto a las salidas de la red\n",
    "        \n",
    "        deltas = self.retropropagacion(salidas,derivadas_error) #Calculo los deltas para el aprendizaje\n",
    "        self.descenso_gradiente(salidas,deltas,tasa_aprendizaje)\n",
    "    \n",
    "    def activar(self,entradas):\n",
    "        salidas = self.transmitir_entradas(entradas)\n",
    "        return salidas[-1][1]\n",
    "            "
   ]
  },
  {
   "cell_type": "code",
   "execution_count": 36,
   "metadata": {},
   "outputs": [],
   "source": [
    "#Definimos la topologia de la Red para la compuerta XOR\n",
    "topologia = [2,2,1]\n",
    "\n",
    "#Volvemos a crear la red de la compuerta XOR\n",
    "compuerta_XOR = red_neuronal(topologia, funcion_activacion, derivada_funcion_activacion)"
   ]
  },
  {
   "cell_type": "code",
   "execution_count": 37,
   "metadata": {},
   "outputs": [
    {
     "name": "stdout",
     "output_type": "stream",
     "text": [
      "Activacion Compuerta XOR con entradas 0 y 0:  [[-0.54878416]]\n",
      "Activacion Compuerta XOR con entradas 0 y 1:  [[-0.70651017]]\n",
      "Activacion Compuerta XOR con entradas 1 y 0:  [[-0.32421191]]\n",
      "Activacion Compuerta XOR con entradas 1 y 1:  [[-0.59708567]]\n"
     ]
    }
   ],
   "source": [
    "#Por ahora vamos a revisar si la red neuronal da buenos resultados sin haber entrenado\n",
    "entradas=np.array([0,0])\n",
    "print(\"Activacion Compuerta XOR con entradas 0 y 0: \",compuerta_XOR.activar(entradas))\n",
    "entradas=np.array([0,1])\n",
    "print(\"Activacion Compuerta XOR con entradas 0 y 1: \",compuerta_XOR.activar(entradas))\n",
    "entradas=np.array([1,0])\n",
    "print(\"Activacion Compuerta XOR con entradas 1 y 0: \",compuerta_XOR.activar(entradas))\n",
    "entradas=np.array([1,1])\n",
    "print(\"Activacion Compuerta XOR con entradas 1 y 1: \",compuerta_XOR.activar(entradas))"
   ]
  },
  {
   "cell_type": "markdown",
   "metadata": {},
   "source": [
    "Nostros sabemos que si la salida es mayor que 0 correspondera a un 1 y si es menor que 0 correspondera a 0, por lo que vemos que la red no tiene correctamente las salidas, ahora vamos a hacer el proceso de que aprenda..."
   ]
  },
  {
   "cell_type": "code",
   "execution_count": 38,
   "metadata": {},
   "outputs": [
    {
     "name": "stdout",
     "output_type": "stream",
     "text": [
      "Activacion Compuerta XOR:\n",
      " [[-0.99999736]\n",
      " [-0.99999938]\n",
      " [-0.99999941]\n",
      " [-0.99999945]]\n"
     ]
    }
   ],
   "source": [
    "entradas = np.array([[0,0],[0,1],[1,0],[1,1]]) #vector de todas las posibles entradas a la red\n",
    "salidas_correctas = np.array([[0],[1],[1],[0]]) #Todas las salidas de las correspondientes entradas\n",
    "\n",
    "nivel_error = []\n",
    "\n",
    "for i in range(2000):\n",
    "    \n",
    "    #Entrenamos la red\n",
    "    compuerta_XOR.entrenar(entradas, salidas_correctas,derivada_error,tasa_aprendizaje=0.001)\n",
    "    \n",
    "    nivel_error.append(error(salidas_correctas,compuerta_XOR.activar(entradas)))\n",
    "\n",
    "print(\"Activacion Compuerta XOR:\\n\",compuerta_XOR.activar(entradas))"
   ]
  },
  {
   "cell_type": "code",
   "execution_count": 39,
   "metadata": {},
   "outputs": [
    {
     "data": {
      "text/plain": [
       "array([[0.99999736],\n",
       "       [1.99999938],\n",
       "       [1.99999941],\n",
       "       [0.99999945]])"
      ]
     },
     "execution_count": 39,
     "metadata": {},
     "output_type": "execute_result"
    }
   ],
   "source": [
    "nivel_error[-1]"
   ]
  },
  {
   "cell_type": "markdown",
   "metadata": {},
   "source": [
    "# Referencias y Material Guia\n",
    "- [DotCSV ¿Que es la neurona?](https://www.youtube.com/watch?v=MRIv2IwFTPg)\n",
    "- [DotCSV La Red de Neuronas](https://www.youtube.com/watch?v=uwbHOpp9xkc)\n",
    "- [DotCSV Backpropagation](https://www.youtube.com/watch?v=eNIqz_noix8)\n",
    "- [Dot CSV Las Matemáticas de Backpropagation](https://www.youtube.com/watch?v=M5QHwkkHgAA)\n",
    "- [Jardin para jugar con Redes Neuronales](https://playground.tensorflow.org)\n",
    "- [Optimizacion Numerica (Descenso del Gradiente)](http://www.benfrederickson.com/numerical-optimization/)\n",
    "- [DotCSV Construyendo tu propia Red Neuronal](https://colab.research.google.com/drive/1vm1EAZ7lLRooZHqHTfUlul5ZXpGmb_SZ#scrollTo=vkVIchcshHDj)"
   ]
  },
  {
   "cell_type": "code",
   "execution_count": null,
   "metadata": {},
   "outputs": [],
   "source": []
  }
 ],
 "metadata": {
  "kernelspec": {
   "display_name": "Python 3",
   "language": "python",
   "name": "python3"
  },
  "language_info": {
   "codemirror_mode": {
    "name": "ipython",
    "version": 3
   },
   "file_extension": ".py",
   "mimetype": "text/x-python",
   "name": "python",
   "nbconvert_exporter": "python",
   "pygments_lexer": "ipython3",
   "version": "3.7.2"
  }
 },
 "nbformat": 4,
 "nbformat_minor": 2
}
